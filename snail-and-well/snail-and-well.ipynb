{
 "cells": [
  {
   "cell_type": "markdown",
   "metadata": {},
   "source": [
    "# Snail and well\n",
    "\n",
    "A snail falls at the bottom of a 125 cm well. Each day the snail rises 30 cm. But at night, while sleeping, slides 20 cm because the walls are wet. How many days does it take to escape from the well?\n",
    "\n",
    "TIP: http://puzzles.nigelcoldwell.co.uk/sixtytwo.htm"
   ]
  },
  {
   "cell_type": "markdown",
   "metadata": {},
   "source": [
    "## Solución"
   ]
  },
  {
   "cell_type": "code",
   "execution_count": 5,
   "metadata": {},
   "outputs": [
    {
     "name": "stdout",
     "output_type": "stream",
     "text": [
      "Days= 11\n"
     ]
    }
   ],
   "source": [
    "# Assign problem data to variables with representative names\n",
    "# well height, daily advance, night retreat, accumulated distance\n",
    "\n",
    "well_height=125\n",
    "daily_adv=30\n",
    "night_ret=20\n",
    "accum_dist=0\n",
    "\n",
    "# Assign 0 to the variable that represents the solution\n",
    "\n",
    "days=0\n",
    "\n",
    "# Write the code that solves the problem\n",
    "\n",
    "while accum_dist<well_height:\n",
    "    days=days+1\n",
    "    accum_dist=(accum_dist)+(daily_adv)\n",
    "    if accum_dist<well_height:\n",
    "        accum_dist=(accum_dist)-(night_ret)\n",
    "\n",
    "# Print the result with print('Days =', days)\n",
    "\n",
    "    else:\n",
    "        print(\"Days=\",days)"
   ]
  },
  {
   "cell_type": "markdown",
   "metadata": {},
   "source": [
    "## Goals\n",
    "\n",
    "1. Treatment of variables\n",
    "2. Use of loop **while**\n",
    "3. Use of conditional **if-else**\n",
    "4. Print in console"
   ]
  },
  {
   "cell_type": "markdown",
   "metadata": {},
   "source": [
    "## Bonus\n",
    "The distance traveled by the snail is now defined by a list.\n",
    "```\n",
    "advance_cm = [30, 21, 33, 77, 44, 45, 23, 45, 12, 34, 55]\n",
    "```\n",
    "How long does it take to raise the well?\n",
    "\n",
    "What is its maximum displacement in one day? And its minimum?\n",
    "\n",
    "What is its average speed during the day?\n",
    "\n",
    "What is the standard deviation of its displacement during the day?"
   ]
  },
  {
   "cell_type": "code",
   "execution_count": 41,
   "metadata": {},
   "outputs": [
    {
     "name": "stdout",
     "output_type": "stream",
     "text": [
      "Days=  5\n",
      "Maximum displacement in a day=  77\n",
      "Minimum displacement in a day=  12\n",
      "Average progress=  38.09090909090909\n",
      "Standard devation=  17.996969441850734\n"
     ]
    }
   ],
   "source": [
    "# Assign problem data to variables with representative names\n",
    "# well height, daily advance, night retreat, accumulated distance\n",
    "\n",
    "well_height=125\n",
    "advance_cm = [30, 21, 33, 77, 44, 45, 23, 45, 12, 34, 55]\n",
    "night_ret=20\n",
    "accum_dist=0\n",
    "\n",
    "\n",
    "# Assign 0 to the variable that represents the solution\n",
    "\n",
    "days = 0\n",
    "\n",
    "\n",
    "# Write the code that solves the problem\n",
    "\n",
    "while accum_dist < well_height:\n",
    "    for i in advance_cm:\n",
    "        days = days + 1\n",
    "        accum_dist = accum_dist + i\n",
    "        \n",
    "        if accum_dist < well_height:\n",
    "            accum_dist = accum_dist - night_ret\n",
    "        \n",
    "        elif accum_dist >= well_height:\n",
    "            break\n",
    "            \n",
    "              \n",
    "# Print the result with print('Days =', days)\n",
    "\n",
    "print('Days= ', days)\n",
    "\n",
    "\n",
    "# What is its maximum displacement in a day? And its minimum?\n",
    "\n",
    "print('Maximum displacement in a day= ', max(advance_cm))\n",
    "print('Minimum displacement in a day= ', min(advance_cm))\n",
    "\n",
    "\n",
    "# What is its average progress?\n",
    "\n",
    "mean = sum(advance_cm) / len(advance_cm)\n",
    "print('Average progress= ', mean)\n",
    "\n",
    "\n",
    "# What is the standard deviation of your displacement during the day?\n",
    "\n",
    "numerator = 0\n",
    "for i in advance_cm:\n",
    "    numerator = numerator + ((i - mean)**2)\n",
    "desvest = (numerator / (len(advance_cm)-1))**(1/2)\n",
    "print('Standard devation= ', desvest)\n"
   ]
  },
  {
   "cell_type": "code",
   "execution_count": 43,
   "metadata": {},
   "outputs": [
    {
     "name": "stdout",
     "output_type": "stream",
     "text": [
      "Maximum displacement in a day=  77\n",
      "Minimum displacement in a day=  21\n",
      "Average progress=  41.0\n",
      "Standard devation=  21.737065119284157\n"
     ]
    }
   ],
   "source": [
    "### Using a list with only the 5 days until the snail gets out the well\n",
    "\n",
    "# What is its maximum displacement in a day? And its minimum?\n",
    "\n",
    "advance_5days = advance_cm[0:(days)]\n",
    "\n",
    "print('Maximum displacement in a day= ', max(advance_5days))\n",
    "print('Minimum displacement in a day= ', min(advance_5days))\n",
    "\n",
    "\n",
    "# What is its average progress?\n",
    "\n",
    "mean = sum(advance_5days) / len(advance_5days)\n",
    "print('Average progress= ', mean5)\n",
    "\n",
    "\n",
    "# What is the standard deviation of your displacement during the day?\n",
    "\n",
    "numerator = 0\n",
    "for i in advance_5days:\n",
    "    numerator = numerator + ((i - mean)**2)\n",
    "desvest = (numerator / (len(advance_5days)-1))**(1/2)\n",
    "print('Standard devation= ', desvest)\n"
   ]
  },
  {
   "cell_type": "code",
   "execution_count": null,
   "metadata": {},
   "outputs": [],
   "source": []
  }
 ],
 "metadata": {
  "kernelspec": {
   "display_name": "Python 3",
   "language": "python",
   "name": "python3"
  },
  "language_info": {
   "codemirror_mode": {
    "name": "ipython",
    "version": 3
   },
   "file_extension": ".py",
   "mimetype": "text/x-python",
   "name": "python",
   "nbconvert_exporter": "python",
   "pygments_lexer": "ipython3",
   "version": "3.7.1"
  }
 },
 "nbformat": 4,
 "nbformat_minor": 2
}
